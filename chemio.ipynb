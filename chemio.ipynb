{
  "cells": [
    {
      "cell_type": "markdown",
      "metadata": {
        "id": "view-in-github",
        "colab_type": "text"
      },
      "source": [
        "<a href=\"https://colab.research.google.com/github/NitPo/OlfactivePropertyPrediction.AI/blob/main/chemio.ipynb\" target=\"_parent\"><img src=\"https://colab.research.google.com/assets/colab-badge.svg\" alt=\"Open In Colab\"/></a>"
      ]
    },
    {
      "cell_type": "markdown",
      "source": [
        "Introduzione"
      ],
      "metadata": {
        "id": "zzIt8OimrRuA"
      }
    },
    {
      "cell_type": "markdown",
      "source": [
        "GNN"
      ],
      "metadata": {
        "id": "11o7JdhWrYho"
      }
    },
    {
      "cell_type": "code",
      "source": [],
      "metadata": {
        "id": "2GrfhNDjrQda"
      },
      "execution_count": null,
      "outputs": []
    },
    {
      "cell_type": "code",
      "source": [],
      "metadata": {
        "id": "_R9hByANrQYD"
      },
      "execution_count": null,
      "outputs": []
    },
    {
      "cell_type": "code",
      "source": [],
      "metadata": {
        "id": "jfvMZxdWrQUU"
      },
      "execution_count": null,
      "outputs": []
    },
    {
      "cell_type": "markdown",
      "source": [
        "Dataset"
      ],
      "metadata": {
        "id": "1lysVUpprqJQ"
      }
    },
    {
      "cell_type": "code",
      "source": [
        "#install\n",
        "#%pip install numpy\n",
        "#%pip install pandas\n",
        "#%pip install rdkit\n",
        "#%pip install pyrfume"
      ],
      "metadata": {
        "colab": {
          "base_uri": "https://localhost:8080/"
        },
        "collapsed": true,
        "id": "v6ICorDJsdlS",
        "outputId": "9c4d9984-6f40-4246-cead-5d8a49cba729"
      },
      "execution_count": null,
      "outputs": [
        {
          "output_type": "stream",
          "name": "stdout",
          "text": [
            "Requirement already satisfied: numpy in /usr/local/lib/python3.10/dist-packages (1.26.4)\n",
            "Requirement already satisfied: pandas in /usr/local/lib/python3.10/dist-packages (2.2.2)\n",
            "Requirement already satisfied: numpy>=1.22.4 in /usr/local/lib/python3.10/dist-packages (from pandas) (1.26.4)\n",
            "Requirement already satisfied: python-dateutil>=2.8.2 in /usr/local/lib/python3.10/dist-packages (from pandas) (2.8.2)\n",
            "Requirement already satisfied: pytz>=2020.1 in /usr/local/lib/python3.10/dist-packages (from pandas) (2024.2)\n",
            "Requirement already satisfied: tzdata>=2022.7 in /usr/local/lib/python3.10/dist-packages (from pandas) (2024.2)\n",
            "Requirement already satisfied: six>=1.5 in /usr/local/lib/python3.10/dist-packages (from python-dateutil>=2.8.2->pandas) (1.16.0)\n",
            "Collecting rdkit\n",
            "  Downloading rdkit-2024.3.6-cp310-cp310-manylinux_2_28_x86_64.whl.metadata (4.0 kB)\n",
            "Requirement already satisfied: numpy in /usr/local/lib/python3.10/dist-packages (from rdkit) (1.26.4)\n",
            "Requirement already satisfied: Pillow in /usr/local/lib/python3.10/dist-packages (from rdkit) (11.0.0)\n",
            "Downloading rdkit-2024.3.6-cp310-cp310-manylinux_2_28_x86_64.whl (32.8 MB)\n",
            "\u001b[2K   \u001b[90m━━━━━━━━━━━━━━━━━━━━━━━━━━━━━━━━━━━━━━━━\u001b[0m \u001b[32m32.8/32.8 MB\u001b[0m \u001b[31m51.4 MB/s\u001b[0m eta \u001b[36m0:00:00\u001b[0m\n",
            "\u001b[?25hInstalling collected packages: rdkit\n",
            "Successfully installed rdkit-2024.3.6\n",
            "Collecting pyrfume\n",
            "  Downloading pyrfume-0.19-py3-none-any.whl.metadata (3.2 kB)\n",
            "Collecting PubChemPy<2.0.0,>=1.0.4 (from pyrfume)\n",
            "  Downloading PubChemPy-1.0.4.tar.gz (29 kB)\n",
            "  Preparing metadata (setup.py) ... \u001b[?25l\u001b[?25hdone\n",
            "Collecting datajoint>0.12 (from pyrfume)\n",
            "  Downloading datajoint-0.14.3-py3-none-any.whl.metadata (34 kB)\n",
            "Collecting eden-kernel<0.4.0,>=0.3.1348 (from pyrfume)\n",
            "  Downloading eden-kernel-0.3.1350.tar.gz (41 kB)\n",
            "\u001b[2K     \u001b[90m━━━━━━━━━━━━━━━━━━━━━━━━━━━━━━━━━━━━━━━━\u001b[0m \u001b[32m41.7/41.7 kB\u001b[0m \u001b[31m2.7 MB/s\u001b[0m eta \u001b[36m0:00:00\u001b[0m\n",
            "\u001b[?25h  Preparing metadata (setup.py) ... \u001b[?25l\u001b[?25hdone\n",
            "Requirement already satisfied: ipykernel>=5.5.6 in /usr/local/lib/python3.10/dist-packages (from pyrfume) (5.5.6)\n",
            "Collecting lxml<=5.1.1 (from pyrfume)\n",
            "  Downloading lxml-5.1.1-cp310-cp310-manylinux_2_17_x86_64.manylinux2014_x86_64.whl.metadata (3.5 kB)\n",
            "Collecting mordredcommunity<3.0.0,>=2.0.5 (from pyrfume)\n",
            "  Downloading mordredcommunity-2.0.6-py3-none-any.whl.metadata (6.2 kB)\n",
            "Requirement already satisfied: numpy>=1.22 in /usr/local/lib/python3.10/dist-packages (from pyrfume) (1.26.4)\n",
            "Requirement already satisfied: pandas>=1.4 in /usr/local/lib/python3.10/dist-packages (from pyrfume) (2.2.2)\n",
            "Requirement already satisfied: plotly<6.0.0,>=5.9.0 in /usr/local/lib/python3.10/dist-packages (from pyrfume) (5.24.1)\n",
            "Collecting quantities<0.14.0,>=0.13.0 (from pyrfume)\n",
            "  Downloading quantities-0.13.0.tar.gz (85 kB)\n",
            "\u001b[2K     \u001b[90m━━━━━━━━━━━━━━━━━━━━━━━━━━━━━━━━━━━━━━━━\u001b[0m \u001b[32m86.0/86.0 kB\u001b[0m \u001b[31m6.4 MB/s\u001b[0m eta \u001b[36m0:00:00\u001b[0m\n",
            "\u001b[?25h  Preparing metadata (setup.py) ... \u001b[?25l\u001b[?25hdone\n",
            "Collecting rdkit-pypi<2023.0.0,>=2022.3.4 (from pyrfume)\n",
            "  Downloading rdkit_pypi-2022.9.5-cp310-cp310-manylinux_2_17_x86_64.manylinux2014_x86_64.whl.metadata (3.9 kB)\n",
            "Requirement already satisfied: requests>=2.20.0 in /usr/local/lib/python3.10/dist-packages (from pyrfume) (2.32.3)\n",
            "Requirement already satisfied: scikit-learn>=0.23.1 in /usr/local/lib/python3.10/dist-packages (from pyrfume) (1.5.2)\n",
            "Requirement already satisfied: scipy>=1.8 in /usr/local/lib/python3.10/dist-packages (from pyrfume) (1.13.1)\n",
            "Requirement already satisfied: sympy>=1.6 in /usr/local/lib/python3.10/dist-packages (from pyrfume) (1.13.1)\n",
            "Requirement already satisfied: toml<0.11.0,>=0.10.2 in /usr/local/lib/python3.10/dist-packages (from pyrfume) (0.10.2)\n",
            "Collecting pymysql>=0.7.2 (from datajoint>0.12->pyrfume)\n",
            "  Downloading PyMySQL-1.1.1-py3-none-any.whl.metadata (4.4 kB)\n",
            "Requirement already satisfied: pyparsing in /usr/local/lib/python3.10/dist-packages (from datajoint>0.12->pyrfume) (3.2.0)\n",
            "Requirement already satisfied: ipython in /usr/local/lib/python3.10/dist-packages (from datajoint>0.12->pyrfume) (7.34.0)\n",
            "Requirement already satisfied: tqdm in /usr/local/lib/python3.10/dist-packages (from datajoint>0.12->pyrfume) (4.66.6)\n",
            "Requirement already satisfied: networkx in /usr/local/lib/python3.10/dist-packages (from datajoint>0.12->pyrfume) (3.4.2)\n",
            "Requirement already satisfied: pydot in /usr/local/lib/python3.10/dist-packages (from datajoint>0.12->pyrfume) (3.0.2)\n",
            "Collecting minio>=7.0.0 (from datajoint>0.12->pyrfume)\n",
            "  Downloading minio-7.2.12-py3-none-any.whl.metadata (6.5 kB)\n",
            "Requirement already satisfied: matplotlib in /usr/local/lib/python3.10/dist-packages (from datajoint>0.12->pyrfume) (3.8.0)\n",
            "Collecting otumat (from datajoint>0.12->pyrfume)\n",
            "  Downloading otumat-0.3.1-py3-none-any.whl.metadata (8.1 kB)\n",
            "Collecting faker (from datajoint>0.12->pyrfume)\n",
            "  Downloading Faker-33.1.0-py3-none-any.whl.metadata (15 kB)\n",
            "Requirement already satisfied: cryptography in /usr/local/lib/python3.10/dist-packages (from datajoint>0.12->pyrfume) (43.0.3)\n",
            "Requirement already satisfied: urllib3 in /usr/local/lib/python3.10/dist-packages (from datajoint>0.12->pyrfume) (2.2.3)\n",
            "Collecting dill (from eden-kernel<0.4.0,>=0.3.1348->pyrfume)\n",
            "  Downloading dill-0.3.9-py3-none-any.whl.metadata (10 kB)\n",
            "Requirement already satisfied: future in /usr/local/lib/python3.10/dist-packages (from eden-kernel<0.4.0,>=0.3.1348->pyrfume) (1.0.0)\n",
            "Requirement already satisfied: joblib in /usr/local/lib/python3.10/dist-packages (from eden-kernel<0.4.0,>=0.3.1348->pyrfume) (1.4.2)\n",
            "Requirement already satisfied: toolz in /usr/local/lib/python3.10/dist-packages (from eden-kernel<0.4.0,>=0.3.1348->pyrfume) (0.12.1)\n",
            "Requirement already satisfied: ipython-genutils in /usr/local/lib/python3.10/dist-packages (from ipykernel>=5.5.6->pyrfume) (0.2.0)\n",
            "Requirement already satisfied: traitlets>=4.1.0 in /usr/local/lib/python3.10/dist-packages (from ipykernel>=5.5.6->pyrfume) (5.7.1)\n",
            "Requirement already satisfied: jupyter-client in /usr/local/lib/python3.10/dist-packages (from ipykernel>=5.5.6->pyrfume) (6.1.12)\n",
            "Requirement already satisfied: tornado>=4.2 in /usr/local/lib/python3.10/dist-packages (from ipykernel>=5.5.6->pyrfume) (6.3.3)\n",
            "Requirement already satisfied: rdkit in /usr/local/lib/python3.10/dist-packages (from mordredcommunity<3.0.0,>=2.0.5->pyrfume) (2024.3.6)\n",
            "Requirement already satisfied: six in /usr/local/lib/python3.10/dist-packages (from mordredcommunity<3.0.0,>=2.0.5->pyrfume) (1.16.0)\n",
            "Requirement already satisfied: packaging in /usr/local/lib/python3.10/dist-packages (from mordredcommunity<3.0.0,>=2.0.5->pyrfume) (24.2)\n",
            "Requirement already satisfied: python-dateutil>=2.8.2 in /usr/local/lib/python3.10/dist-packages (from pandas>=1.4->pyrfume) (2.8.2)\n",
            "Requirement already satisfied: pytz>=2020.1 in /usr/local/lib/python3.10/dist-packages (from pandas>=1.4->pyrfume) (2024.2)\n",
            "Requirement already satisfied: tzdata>=2022.7 in /usr/local/lib/python3.10/dist-packages (from pandas>=1.4->pyrfume) (2024.2)\n",
            "Requirement already satisfied: tenacity>=6.2.0 in /usr/local/lib/python3.10/dist-packages (from plotly<6.0.0,>=5.9.0->pyrfume) (9.0.0)\n",
            "Requirement already satisfied: Pillow in /usr/local/lib/python3.10/dist-packages (from rdkit-pypi<2023.0.0,>=2022.3.4->pyrfume) (11.0.0)\n",
            "Requirement already satisfied: charset-normalizer<4,>=2 in /usr/local/lib/python3.10/dist-packages (from requests>=2.20.0->pyrfume) (3.4.0)\n",
            "Requirement already satisfied: idna<4,>=2.5 in /usr/local/lib/python3.10/dist-packages (from requests>=2.20.0->pyrfume) (3.10)\n",
            "Requirement already satisfied: certifi>=2017.4.17 in /usr/local/lib/python3.10/dist-packages (from requests>=2.20.0->pyrfume) (2024.8.30)\n",
            "Requirement already satisfied: threadpoolctl>=3.1.0 in /usr/local/lib/python3.10/dist-packages (from scikit-learn>=0.23.1->pyrfume) (3.5.0)\n",
            "Requirement already satisfied: mpmath<1.4,>=1.1.0 in /usr/local/lib/python3.10/dist-packages (from sympy>=1.6->pyrfume) (1.3.0)\n",
            "Requirement already satisfied: setuptools>=18.5 in /usr/local/lib/python3.10/dist-packages (from ipython->datajoint>0.12->pyrfume) (75.1.0)\n",
            "Collecting jedi>=0.16 (from ipython->datajoint>0.12->pyrfume)\n",
            "  Downloading jedi-0.19.2-py2.py3-none-any.whl.metadata (22 kB)\n",
            "Requirement already satisfied: decorator in /usr/local/lib/python3.10/dist-packages (from ipython->datajoint>0.12->pyrfume) (4.4.2)\n",
            "Requirement already satisfied: pickleshare in /usr/local/lib/python3.10/dist-packages (from ipython->datajoint>0.12->pyrfume) (0.7.5)\n",
            "Requirement already satisfied: prompt-toolkit!=3.0.0,!=3.0.1,<3.1.0,>=2.0.0 in /usr/local/lib/python3.10/dist-packages (from ipython->datajoint>0.12->pyrfume) (3.0.48)\n",
            "Requirement already satisfied: pygments in /usr/local/lib/python3.10/dist-packages (from ipython->datajoint>0.12->pyrfume) (2.18.0)\n",
            "Requirement already satisfied: backcall in /usr/local/lib/python3.10/dist-packages (from ipython->datajoint>0.12->pyrfume) (0.2.0)\n",
            "Requirement already satisfied: matplotlib-inline in /usr/local/lib/python3.10/dist-packages (from ipython->datajoint>0.12->pyrfume) (0.1.7)\n",
            "Requirement already satisfied: pexpect>4.3 in /usr/local/lib/python3.10/dist-packages (from ipython->datajoint>0.12->pyrfume) (4.9.0)\n",
            "Requirement already satisfied: argon2-cffi in /usr/local/lib/python3.10/dist-packages (from minio>=7.0.0->datajoint>0.12->pyrfume) (23.1.0)\n",
            "Collecting pycryptodome (from minio>=7.0.0->datajoint>0.12->pyrfume)\n",
            "  Downloading pycryptodome-3.21.0-cp36-abi3-manylinux_2_17_x86_64.manylinux2014_x86_64.whl.metadata (3.4 kB)\n",
            "Requirement already satisfied: typing-extensions in /usr/local/lib/python3.10/dist-packages (from minio>=7.0.0->datajoint>0.12->pyrfume) (4.12.2)\n",
            "Requirement already satisfied: cffi>=1.12 in /usr/local/lib/python3.10/dist-packages (from cryptography->datajoint>0.12->pyrfume) (1.17.1)\n",
            "Requirement already satisfied: jupyter-core>=4.6.0 in /usr/local/lib/python3.10/dist-packages (from jupyter-client->ipykernel>=5.5.6->pyrfume) (5.7.2)\n",
            "Requirement already satisfied: pyzmq>=13 in /usr/local/lib/python3.10/dist-packages (from jupyter-client->ipykernel>=5.5.6->pyrfume) (24.0.1)\n",
            "Requirement already satisfied: contourpy>=1.0.1 in /usr/local/lib/python3.10/dist-packages (from matplotlib->datajoint>0.12->pyrfume) (1.3.1)\n",
            "Requirement already satisfied: cycler>=0.10 in /usr/local/lib/python3.10/dist-packages (from matplotlib->datajoint>0.12->pyrfume) (0.12.1)\n",
            "Requirement already satisfied: fonttools>=4.22.0 in /usr/local/lib/python3.10/dist-packages (from matplotlib->datajoint>0.12->pyrfume) (4.55.0)\n",
            "Requirement already satisfied: kiwisolver>=1.0.1 in /usr/local/lib/python3.10/dist-packages (from matplotlib->datajoint>0.12->pyrfume) (1.4.7)\n",
            "Requirement already satisfied: flask in /usr/local/lib/python3.10/dist-packages (from otumat->datajoint>0.12->pyrfume) (3.0.3)\n",
            "Collecting appdirs (from otumat->datajoint>0.12->pyrfume)\n",
            "  Downloading appdirs-1.4.4-py2.py3-none-any.whl.metadata (9.0 kB)\n",
            "Collecting watchdog (from otumat->datajoint>0.12->pyrfume)\n",
            "  Downloading watchdog-6.0.0-py3-none-manylinux2014_x86_64.whl.metadata (44 kB)\n",
            "\u001b[2K     \u001b[90m━━━━━━━━━━━━━━━━━━━━━━━━━━━━━━━━━━━━━━━━\u001b[0m \u001b[32m44.3/44.3 kB\u001b[0m \u001b[31m2.9 MB/s\u001b[0m eta \u001b[36m0:00:00\u001b[0m\n",
            "\u001b[?25hRequirement already satisfied: pycparser in /usr/local/lib/python3.10/dist-packages (from cffi>=1.12->cryptography->datajoint>0.12->pyrfume) (2.22)\n",
            "Requirement already satisfied: parso<0.9.0,>=0.8.4 in /usr/local/lib/python3.10/dist-packages (from jedi>=0.16->ipython->datajoint>0.12->pyrfume) (0.8.4)\n",
            "Requirement already satisfied: platformdirs>=2.5 in /usr/local/lib/python3.10/dist-packages (from jupyter-core>=4.6.0->jupyter-client->ipykernel>=5.5.6->pyrfume) (4.3.6)\n",
            "Requirement already satisfied: ptyprocess>=0.5 in /usr/local/lib/python3.10/dist-packages (from pexpect>4.3->ipython->datajoint>0.12->pyrfume) (0.7.0)\n",
            "Requirement already satisfied: wcwidth in /usr/local/lib/python3.10/dist-packages (from prompt-toolkit!=3.0.0,!=3.0.1,<3.1.0,>=2.0.0->ipython->datajoint>0.12->pyrfume) (0.2.13)\n",
            "Requirement already satisfied: argon2-cffi-bindings in /usr/local/lib/python3.10/dist-packages (from argon2-cffi->minio>=7.0.0->datajoint>0.12->pyrfume) (21.2.0)\n",
            "Requirement already satisfied: Werkzeug>=3.0.0 in /usr/local/lib/python3.10/dist-packages (from flask->otumat->datajoint>0.12->pyrfume) (3.1.3)\n",
            "Requirement already satisfied: Jinja2>=3.1.2 in /usr/local/lib/python3.10/dist-packages (from flask->otumat->datajoint>0.12->pyrfume) (3.1.4)\n",
            "Requirement already satisfied: itsdangerous>=2.1.2 in /usr/local/lib/python3.10/dist-packages (from flask->otumat->datajoint>0.12->pyrfume) (2.2.0)\n",
            "Requirement already satisfied: click>=8.1.3 in /usr/local/lib/python3.10/dist-packages (from flask->otumat->datajoint>0.12->pyrfume) (8.1.7)\n",
            "Requirement already satisfied: blinker>=1.6.2 in /usr/local/lib/python3.10/dist-packages (from flask->otumat->datajoint>0.12->pyrfume) (1.9.0)\n",
            "Requirement already satisfied: MarkupSafe>=2.0 in /usr/local/lib/python3.10/dist-packages (from Jinja2>=3.1.2->flask->otumat->datajoint>0.12->pyrfume) (3.0.2)\n",
            "Downloading pyrfume-0.19-py3-none-any.whl (78 kB)\n",
            "\u001b[2K   \u001b[90m━━━━━━━━━━━━━━━━━━━━━━━━━━━━━━━━━━━━━━━━\u001b[0m \u001b[32m78.7/78.7 kB\u001b[0m \u001b[31m5.8 MB/s\u001b[0m eta \u001b[36m0:00:00\u001b[0m\n",
            "\u001b[?25hDownloading datajoint-0.14.3-py3-none-any.whl (112 kB)\n",
            "\u001b[2K   \u001b[90m━━━━━━━━━━━━━━━━━━━━━━━━━━━━━━━━━━━━━━━━\u001b[0m \u001b[32m112.8/112.8 kB\u001b[0m \u001b[31m9.3 MB/s\u001b[0m eta \u001b[36m0:00:00\u001b[0m\n",
            "\u001b[?25hDownloading lxml-5.1.1-cp310-cp310-manylinux_2_17_x86_64.manylinux2014_x86_64.whl (5.1 MB)\n",
            "\u001b[2K   \u001b[90m━━━━━━━━━━━━━━━━━━━━━━━━━━━━━━━━━━━━━━━━\u001b[0m \u001b[32m5.1/5.1 MB\u001b[0m \u001b[31m66.6 MB/s\u001b[0m eta \u001b[36m0:00:00\u001b[0m\n",
            "\u001b[?25hDownloading mordredcommunity-2.0.6-py3-none-any.whl (175 kB)\n",
            "\u001b[2K   \u001b[90m━━━━━━━━━━━━━━━━━━━━━━━━━━━━━━━━━━━━━━━━\u001b[0m \u001b[32m176.0/176.0 kB\u001b[0m \u001b[31m12.5 MB/s\u001b[0m eta \u001b[36m0:00:00\u001b[0m\n",
            "\u001b[?25hDownloading rdkit_pypi-2022.9.5-cp310-cp310-manylinux_2_17_x86_64.manylinux2014_x86_64.whl (29.4 MB)\n",
            "\u001b[2K   \u001b[90m━━━━━━━━━━━━━━━━━━━━━━━━━━━━━━━━━━━━━━━━\u001b[0m \u001b[32m29.4/29.4 MB\u001b[0m \u001b[31m59.0 MB/s\u001b[0m eta \u001b[36m0:00:00\u001b[0m\n",
            "\u001b[?25hDownloading minio-7.2.12-py3-none-any.whl (94 kB)\n",
            "\u001b[2K   \u001b[90m━━━━━━━━━━━━━━━━━━━━━━━━━━━━━━━━━━━━━━━━\u001b[0m \u001b[32m94.3/94.3 kB\u001b[0m \u001b[31m5.8 MB/s\u001b[0m eta \u001b[36m0:00:00\u001b[0m\n",
            "\u001b[?25hDownloading PyMySQL-1.1.1-py3-none-any.whl (44 kB)\n",
            "\u001b[2K   \u001b[90m━━━━━━━━━━━━━━━━━━━━━━━━━━━━━━━━━━━━━━━━\u001b[0m \u001b[32m45.0/45.0 kB\u001b[0m \u001b[31m3.3 MB/s\u001b[0m eta \u001b[36m0:00:00\u001b[0m\n",
            "\u001b[?25hDownloading dill-0.3.9-py3-none-any.whl (119 kB)\n",
            "\u001b[2K   \u001b[90m━━━━━━━━━━━━━━━━━━━━━━━━━━━━━━━━━━━━━━━━\u001b[0m \u001b[32m119.4/119.4 kB\u001b[0m \u001b[31m8.9 MB/s\u001b[0m eta \u001b[36m0:00:00\u001b[0m\n",
            "\u001b[?25hDownloading Faker-33.1.0-py3-none-any.whl (1.9 MB)\n",
            "\u001b[2K   \u001b[90m━━━━━━━━━━━━━━━━━━━━━━━━━━━━━━━━━━━━━━━━\u001b[0m \u001b[32m1.9/1.9 MB\u001b[0m \u001b[31m66.7 MB/s\u001b[0m eta \u001b[36m0:00:00\u001b[0m\n",
            "\u001b[?25hDownloading otumat-0.3.1-py3-none-any.whl (15 kB)\n",
            "Downloading jedi-0.19.2-py2.py3-none-any.whl (1.6 MB)\n",
            "\u001b[2K   \u001b[90m━━━━━━━━━━━━━━━━━━━━━━━━━━━━━━━━━━━━━━━━\u001b[0m \u001b[32m1.6/1.6 MB\u001b[0m \u001b[31m54.8 MB/s\u001b[0m eta \u001b[36m0:00:00\u001b[0m\n",
            "\u001b[?25hDownloading appdirs-1.4.4-py2.py3-none-any.whl (9.6 kB)\n",
            "Downloading pycryptodome-3.21.0-cp36-abi3-manylinux_2_17_x86_64.manylinux2014_x86_64.whl (2.3 MB)\n",
            "\u001b[2K   \u001b[90m━━━━━━━━━━━━━━━━━━━━━━━━━━━━━━━━━━━━━━━━\u001b[0m \u001b[32m2.3/2.3 MB\u001b[0m \u001b[31m47.2 MB/s\u001b[0m eta \u001b[36m0:00:00\u001b[0m\n",
            "\u001b[?25hDownloading watchdog-6.0.0-py3-none-manylinux2014_x86_64.whl (79 kB)\n",
            "\u001b[2K   \u001b[90m━━━━━━━━━━━━━━━━━━━━━━━━━━━━━━━━━━━━━━━━\u001b[0m \u001b[32m79.1/79.1 kB\u001b[0m \u001b[31m5.6 MB/s\u001b[0m eta \u001b[36m0:00:00\u001b[0m\n",
            "\u001b[?25hBuilding wheels for collected packages: eden-kernel, PubChemPy, quantities\n",
            "  Building wheel for eden-kernel (setup.py) ... \u001b[?25l\u001b[?25hdone\n",
            "  Created wheel for eden-kernel: filename=eden_kernel-0.3.1350-py3-none-any.whl size=45128 sha256=a5d97f7c2068dcd69bc3d1b4ecd4cbd228bbe7edde97ccd22c1244a709e9bdde\n",
            "  Stored in directory: /root/.cache/pip/wheels/17/08/41/b7c8fbc64ae8a632a81b12d8e6bfbc4017adb5c59617c3086c\n",
            "  Building wheel for PubChemPy (setup.py) ... \u001b[?25l\u001b[?25hdone\n",
            "  Created wheel for PubChemPy: filename=PubChemPy-1.0.4-py3-none-any.whl size=13819 sha256=5122a55810951d40defbc345100a63d07421791d8817bb0975dbd2ef0e553eea\n",
            "  Stored in directory: /root/.cache/pip/wheels/90/7c/45/18a0671e3c3316966ef7ed9ad2b3f3300a7e41d3421a44e799\n",
            "  Building wheel for quantities (setup.py) ... \u001b[?25l\u001b[?25hdone\n",
            "  Created wheel for quantities: filename=quantities-0.13.0-py3-none-any.whl size=77858 sha256=1c78ba74dce9dc7042bec5de1da7ad522706c79e43b99f93baa7d72c81a0bb5e\n",
            "  Stored in directory: /root/.cache/pip/wheels/f7/c2/4f/df57beba804ab4766843b58de25737b0a7e4774ef139a77c9a\n",
            "Successfully built eden-kernel PubChemPy quantities\n",
            "Installing collected packages: quantities, PubChemPy, appdirs, watchdog, rdkit-pypi, pymysql, pycryptodome, lxml, jedi, dill, mordredcommunity, faker, otumat, eden-kernel, minio, datajoint, pyrfume\n",
            "  Attempting uninstall: lxml\n",
            "    Found existing installation: lxml 5.3.0\n",
            "    Uninstalling lxml-5.3.0:\n",
            "      Successfully uninstalled lxml-5.3.0\n",
            "Successfully installed PubChemPy-1.0.4 appdirs-1.4.4 datajoint-0.14.3 dill-0.3.9 eden-kernel-0.3.1350 faker-33.1.0 jedi-0.19.2 lxml-5.1.1 minio-7.2.12 mordredcommunity-2.0.6 otumat-0.3.1 pycryptodome-3.21.0 pymysql-1.1.1 pyrfume-0.19 quantities-0.13.0 rdkit-pypi-2022.9.5 watchdog-6.0.0\n"
          ]
        }
      ]
    },
    {
      "cell_type": "code",
      "source": [
        "#Imports\n",
        "\n",
        "from itertools import chain\n",
        "import numpy as np\n",
        "import pandas as pd\n",
        "import pyrfume\n",
        "from pyrfume.odorants import get_cids, from_cids, canonical_smiles, smiles_to_mol, hash_smiles\n",
        "from rdkit.Chem.Descriptors import MolWt\n",
        "from tqdm.auto import tqdm"
      ],
      "metadata": {
        "id": "q03IJGxCrQQJ"
      },
      "execution_count": null,
      "outputs": []
    },
    {
      "cell_type": "code",
      "source": [
        "# Load the data previously processed by Google form the Leffingwell raw source file (not available here)\n",
        "raw = pd.read_csv('leffingwell_data.csv').set_index('smiles')\n",
        "\n",
        "raw.head()\n",
        "\n",
        "# Obtain the PubChem IDs -- ~100 of these ~3500 molecules cannot be found in PubChem\n",
        "cids = pyrfume.get_cids(raw.index.to_list(), kind='smiles')\n",
        "\n",
        "# Try to get missing CIDs from CAS\n",
        "missing_cas = raw.loc[[k for k, v in cids.items() if not v]]['cas'].dropna()\n",
        "cids2 = pyrfume.get_cids(missing_cas.to_list())\n",
        "\n",
        "# +\n",
        "# Add the PubChem ID column\n",
        "raw['CID'] = raw.index.map(cids.get)\n",
        "raw.loc[missing_cas.index, 'CID'] = raw.loc[missing_cas.index, 'cas'].map(cids2)\n",
        "\n",
        "# Searching by chemical name doesn't find any new CIDs\n",
        "# Use temporary negative numbers to fill in remaining missing CIDs\n",
        "n = -1\n",
        "for idx in raw[raw['CID'] == 0].index.to_list():\n",
        "    raw.loc[idx, 'CID'] = n\n",
        "    n -= 1\n",
        "# -\n",
        "\n",
        "# Canonicalize SMILES strings\n",
        "raw.index = map(canonical_smiles, raw.index)\n",
        "\n",
        "# Get standard information from PubChem for the CIDs that were found\n",
        "all_cids = list(set([v for v in cids.values() if v] + [v for v in cids2.values() if v]))\n",
        "info_dict = from_cids(all_cids)\n",
        "\n",
        "# Convert to a DataFrame\n",
        "info = pd.DataFrame(info_dict).set_index('CID').sort_index()\n",
        "info.head()\n",
        "\n",
        "# +\n",
        "# Join the PubChem standard information with the original data\n",
        "df = raw.join(info, on='CID', how='left')\n",
        "\n",
        "# Those smiles associated with negative CID\n",
        "empty_smiles = df[df['CID'] < 0].index\n",
        "\n",
        "# Fill 'IsomericSMILES' column for molecules with no CID using original SMILES from index\n",
        "df.loc[empty_smiles, 'IsomericSMILES'] = df.loc[empty_smiles].index\n",
        "\n",
        "# Fill 'name' column for molecules with no CID using original `chemical_name`\n",
        "df.loc[empty_smiles, 'name'] = df.loc[empty_smiles, 'chemical_name']\n",
        "\n",
        "# No `IUPACName` will be computed for molecules with no CID\n",
        "\n",
        "# Fill 'MolecularWeight' column for molecules with no CID using SMILES-based MW calculation\n",
        "mols = smiles_to_mol(empty_smiles, max_attempts=1000)\n",
        "mws = pd.Series({smiles: MolWt(mol) for smiles, mol in mols.items()})\n",
        "df.loc[empty_smiles, 'MolecularWeight'] = mws[empty_smiles]\n",
        "df['MolecularWeight'] = df['MolecularWeight'].astype(float)\n",
        "\n",
        "# Replace negative integer CIDs with hash of SMILES\n",
        "df.CID = df.apply(lambda row: hash_smiles(row['IsomericSMILES']) if row.CID < 0 else row.CID, axis=1)\n",
        "\n",
        "# +\n",
        "# Create dataframe that will generate molecules.csv and stimuli.csv\n",
        "stimuli = df[list(info) + ['CID', 'cas']].set_index('CID').copy().sort_index()\n",
        "stimuli.reset_index(inplace=True)\n",
        "\n",
        "stimuli.index = stimuli.CID\n",
        "stimuli.index.name = 'Stimulus'\n",
        "stimuli = stimuli[~stimuli.index.duplicated()].sort_index() # Drop one duplicated row\n",
        "stimuli.head()\n",
        "# -\n",
        "\n",
        "molecules = stimuli.drop('cas', axis=1).copy()\n",
        "molecules = molecules.set_index('CID').sort_index()\n",
        "molecules.head()\n",
        "\n",
        "# Create the `behavior` dataframe containing the label data; all applicable labels are contained in the `Labels` column\n",
        "behavior_sparse = df[['odor_data', 'odor_labels_filtered', 'CID']].set_index('CID').sort_index()\n",
        "behavior_sparse.columns = ['Raw Labels', 'Labels']\n",
        "behavior_sparse.index.name = 'Stimulus'\n",
        "behavior_sparse = behavior_sparse[~behavior_sparse.index.duplicated()] # Drop one duplicated row\n",
        "behavior_sparse.head()\n",
        "\n",
        "# + tags=[]\n",
        "# Create a dense version of the above; each label will have its own binary-valued column\n",
        "behavior = behavior_sparse.copy()\n",
        "# All the labels in the dataset\n",
        "all_labels = set(chain.from_iterable(behavior['Labels'].squeeze().map(eval)))\n",
        "for label in tqdm(all_labels):\n",
        "    behavior[label] = behavior['Labels'].squeeze().apply(lambda x: label in eval(x)).astype(int)\n",
        "behavior = behavior.drop(['Raw Labels', 'Labels'], axis=1).sort_index(axis=1)\n",
        "# -\n",
        "\n",
        "behavior.index.name = 'Stimulus'\n",
        "behavior.head()\n",
        "\n",
        "# Write files to disk\n",
        "molecules.to_csv('molecules.csv')\n",
        "behavior_sparse.to_csv('behavior_sparse.csv')\n",
        "behavior.to_csv('behavior.csv')\n",
        "stimuli.to_csv('stimuli.csv')"
      ],
      "metadata": {
        "id": "1P2s1Fe6yAOt"
      },
      "execution_count": null,
      "outputs": []
    },
    {
      "cell_type": "code",
      "source": [],
      "metadata": {
        "id": "PEkZv_YQrQMe"
      },
      "execution_count": null,
      "outputs": []
    },
    {
      "cell_type": "markdown",
      "source": [
        "Modello"
      ],
      "metadata": {
        "id": "cYkvFmlBr7OW"
      }
    },
    {
      "cell_type": "code",
      "source": [],
      "metadata": {
        "id": "_kZTdqCJrQJB"
      },
      "execution_count": null,
      "outputs": []
    },
    {
      "cell_type": "code",
      "source": [],
      "metadata": {
        "id": "dDSS7cqrrQBp"
      },
      "execution_count": null,
      "outputs": []
    },
    {
      "cell_type": "code",
      "source": [],
      "metadata": {
        "id": "tP-JiNHcrP7y"
      },
      "execution_count": null,
      "outputs": []
    },
    {
      "cell_type": "markdown",
      "source": [
        "Training"
      ],
      "metadata": {
        "id": "0VCcxnMKr9a0"
      }
    },
    {
      "cell_type": "code",
      "source": [],
      "metadata": {
        "id": "Lh0X4p9UrPwU"
      },
      "execution_count": null,
      "outputs": []
    },
    {
      "cell_type": "code",
      "source": [],
      "metadata": {
        "id": "Osu-ckdTrPiq"
      },
      "execution_count": null,
      "outputs": []
    },
    {
      "cell_type": "markdown",
      "source": [
        "Risultati"
      ],
      "metadata": {
        "id": "qugDAacHr_it"
      }
    },
    {
      "cell_type": "code",
      "source": [],
      "metadata": {
        "id": "wPRwqkuAsDzI"
      },
      "execution_count": null,
      "outputs": []
    },
    {
      "cell_type": "code",
      "source": [],
      "metadata": {
        "id": "Ap_VrwkdsDi3"
      },
      "execution_count": null,
      "outputs": []
    }
  ],
  "metadata": {
    "kernelspec": {
      "display_name": "Chemioinformatica",
      "language": "python",
      "name": "python3"
    },
    "language_info": {
      "codemirror_mode": {
        "name": "ipython",
        "version": 3
      },
      "file_extension": ".py",
      "mimetype": "text/x-python",
      "name": "python",
      "nbconvert_exporter": "python",
      "pygments_lexer": "ipython3",
      "version": "3.12.3"
    },
    "colab": {
      "provenance": [],
      "include_colab_link": true
    }
  },
  "nbformat": 4,
  "nbformat_minor": 0
}